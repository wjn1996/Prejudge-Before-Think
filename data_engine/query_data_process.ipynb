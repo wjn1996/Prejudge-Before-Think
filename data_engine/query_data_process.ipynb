{
 "cells": [
  {
   "cell_type": "markdown",
   "id": "c98f9f9c-bf1c-4521-874b-e8559ad5ed3a",
   "metadata": {},
   "source": [
    "## Process query data"
   ]
  },
  {
   "cell_type": "markdown",
   "id": "a362ba4c-6428-4506-9d32-139a459238b9",
   "metadata": {},
   "source": [
    "Process origin data."
   ]
  },
  {
   "cell_type": "code",
   "execution_count": 11,
   "id": "620b35e7-0018-4658-9c3f-558bfb69a314",
   "metadata": {
    "execution": {
     "iopub.execute_input": "2024-12-09T06:48:39.038469Z",
     "iopub.status.busy": "2024-12-09T06:48:39.037982Z",
     "iopub.status.idle": "2024-12-09T06:48:39.040997Z",
     "shell.execute_reply": "2024-12-09T06:48:39.040595Z",
     "shell.execute_reply.started": "2024-12-09T06:48:39.038449Z"
    }
   },
   "outputs": [],
   "source": [
    "import datasets\n",
    "from datasets import load_dataset\n",
    "import pandas as pd\n",
    "import json\n",
    "from tqdm import tqdm\n",
    "import os\n",
    "import random"
   ]
  },
  {
   "cell_type": "code",
   "execution_count": null,
   "id": "fc891af8-f175-4d71-ac5e-eed2fcd398ae",
   "metadata": {
    "execution": {
     "iopub.execute_input": "2024-12-24T07:22:21.648009Z",
     "iopub.status.busy": "2024-12-24T07:22:21.647310Z",
     "iopub.status.idle": "2024-12-24T07:22:21.650758Z",
     "shell.execute_reply": "2024-12-24T07:22:21.650133Z",
     "shell.execute_reply.started": "2024-12-24T07:22:21.647990Z"
    }
   },
   "outputs": [],
   "source": [
    "data_path = \"<The default data path at your disk>\"\n",
    "logic_data_path = \"<The default data path at your disk>\"\n",
    "# aqua_rat  Calc-ape210k  gsm8k  instruction  PRM800K  svamp  TAL-SCQ5K  TheoremQA\n",
    "save_path = \"../data/math/origin/\"\n",
    "logic_save_path = \"../data/logic/origin\""
   ]
  },
  {
   "cell_type": "code",
   "execution_count": 112,
   "id": "a38b8d11-038f-4999-97a1-8b17b7c774fa",
   "metadata": {
    "execution": {
     "iopub.execute_input": "2025-01-11T23:57:03.507680Z",
     "iopub.status.busy": "2025-01-11T23:57:03.507276Z",
     "iopub.status.idle": "2025-01-11T23:57:03.511260Z",
     "shell.execute_reply": "2025-01-11T23:57:03.510748Z",
     "shell.execute_reply.started": "2025-01-11T23:57:03.507661Z"
    }
   },
   "outputs": [],
   "source": [
    "data_mapping = {\n",
    "    \"aqua_rat\": \"aqua_rat\",\n",
    "    \"calc\": \"Calc-ape210k\",\n",
    "    \"gsm8k\": \"gsm8k\",\n",
    "    \"prm800k\": \"PRM800K\",\n",
    "    \"svamp\": \"svamp\",\n",
    "    \"tal-scq5k\": \"TAL-SCQ5K\",\n",
    "    \"theoremqa\": \"TheoremQA\",\n",
    "    \"math\": \"MATH\",\n",
    "    \"tabmwp\": \"tabmwp\",\n",
    "    \"aime\": \"AIME\",\n",
    "    \"proofwriter\": \"proofwriter\",\n",
    "    \"folio\": \"folio\",\n",
    "    \"logicnli\": \"logicnli\",\n",
    "    \"ar_lsat\": \"AR-LSAT\",\n",
    "    \"mindgames\": \"mindgames\",\n",
    "    \"reclor\": \"reclor\",\n",
    "    \"entailment_bank\": \"entailment_bank\",\n",
    "    \"strategy_qa\": \"StrategyQA\",\n",
    "    \"metamathQA\": \"MetaMathQA\",\n",
    "    \"numinamath\": \"NuminaMath-CoT\"\n",
    "}"
   ]
  },
  {
   "cell_type": "code",
   "execution_count": 60,
   "id": "56fc7f05-08b1-4c54-b543-c9e8327472e9",
   "metadata": {
    "execution": {
     "iopub.execute_input": "2024-12-24T07:34:22.998047Z",
     "iopub.status.busy": "2024-12-24T07:34:22.997416Z",
     "iopub.status.idle": "2024-12-24T07:34:23.001676Z",
     "shell.execute_reply": "2024-12-24T07:34:23.001156Z",
     "shell.execute_reply.started": "2024-12-24T07:34:22.998028Z"
    }
   },
   "outputs": [],
   "source": [
    "def save_examples(data_name, data_kind, examples, save_path):\n",
    "    if not os.path.exists(data_path):\n",
    "        os.makedirs(data_path)\n",
    "    if not os.path.exists(save_path):\n",
    "        os.makedirs(save_path)\n",
    "    with open(os.path.join(save_path, f\"{data_name}_{data_kind}.jsonl\"), \"w\", encoding=\"utf-8\") as fw:\n",
    "        for example in tqdm(examples):\n",
    "            fw.write(json.dumps(example, ensure_ascii=False) + \"\\n\")"
   ]
  },
  {
   "cell_type": "code",
   "execution_count": 24,
   "id": "f5bc784f-0353-4e23-b102-647d86485fc0",
   "metadata": {
    "execution": {
     "iopub.execute_input": "2024-12-24T03:08:28.917216Z",
     "iopub.status.busy": "2024-12-24T03:08:28.916888Z",
     "iopub.status.idle": "2024-12-24T03:08:28.922000Z",
     "shell.execute_reply": "2024-12-24T03:08:28.921542Z",
     "shell.execute_reply.started": "2024-12-24T03:08:28.917197Z"
    }
   },
   "outputs": [],
   "source": [
    "def remove_boxed(s):\n",
    "    left = \"\\\\boxed{\"\n",
    "    try:\n",
    "        assert s[:len(left)] == left\n",
    "        assert s[-1] == \"}\"\n",
    "        return s[len(left):-1]\n",
    "    except:\n",
    "        return s\n",
    "\n",
    "\n",
    "def extract_boxed_answer(string):\n",
    "    idx = string.rfind(\"\\\\boxed\")\n",
    "    if idx < 0:\n",
    "        return None\n",
    "\n",
    "    i = idx\n",
    "    right_brace_idx = None\n",
    "    num_left_braces_open = 0\n",
    "    while i < len(string):\n",
    "        if string[i] == \"{\":\n",
    "            num_left_braces_open += 1\n",
    "        if string[i] == \"}\":\n",
    "            num_left_braces_open -= 1\n",
    "            if num_left_braces_open == 0:\n",
    "                right_brace_idx = i\n",
    "                break\n",
    "        i += 1\n",
    "\n",
    "    if right_brace_idx == None:\n",
    "        retval = None\n",
    "    else:\n",
    "        retval = string[idx:right_brace_idx + 1]\n",
    "\n",
    "    return retval\n",
    "\n",
    "def extract_answer(text):\n",
    "    return remove_boxed(extract_boxed_answer(text))\n"
   ]
  },
  {
   "cell_type": "code",
   "execution_count": 101,
   "id": "d5a8b0b2-447e-4c46-8c43-497981a1635a",
   "metadata": {
    "execution": {
     "iopub.execute_input": "2024-11-29T03:14:27.833501Z",
     "iopub.status.busy": "2024-11-29T03:14:27.832959Z",
     "iopub.status.idle": "2024-11-29T03:14:39.302911Z",
     "shell.execute_reply": "2024-11-29T03:14:39.302434Z",
     "shell.execute_reply.started": "2024-11-29T03:14:27.833482Z"
    }
   },
   "outputs": [
    {
     "name": "stderr",
     "output_type": "stream",
     "text": [
      "100%|██████████| 195179/195179 [00:01<00:00, 140372.62it/s]\n",
      "100%|██████████| 1783/1783 [00:00<00:00, 184835.49it/s]\n",
      "100%|██████████| 1785/1785 [00:00<00:00, 184028.53it/s]\n"
     ]
    }
   ],
   "source": [
    "### Calc\n",
    "def load_calc(data_path, data_name):\n",
    "    data = load_dataset(os.path.join(data_path, data_name))\n",
    "    train_examples, dev_examples, test_examples = list(), list(), list()\n",
    "    for example in data[\"train\"]:\n",
    "        # print(example)\n",
    "        train_examples.append({\n",
    "            \"id\": example[\"id\"],\n",
    "            \"question\": example[\"question\"],\n",
    "            \"labels\": [example[\"result\"], str(example[\"result_float\"])],\n",
    "        })\n",
    "    for example in data[\"validation\"]:\n",
    "        dev_examples.append({\n",
    "            \"id\": example[\"id\"],\n",
    "            \"question\": example[\"question\"],\n",
    "            \"labels\": [example[\"result\"], str(example[\"result_float\"])],\n",
    "        })\n",
    "    for example in data[\"test\"]:\n",
    "        test_examples.append({\n",
    "            \"id\": example[\"id\"],\n",
    "            \"question\": example[\"question\"],\n",
    "            \"labels\": [example[\"result\"], str(example[\"result_float\"])],\n",
    "        })\n",
    "    save_examples(data_name, \"train\", train_examples, save_path)\n",
    "    save_examples(data_name, \"dev\", dev_examples, save_path)\n",
    "    save_examples(data_name, \"test\", test_examples, save_path)\n",
    "load_calc(data_path, data_mapping[\"calc\"])"
   ]
  },
  {
   "cell_type": "code",
   "execution_count": 131,
   "id": "dfd4c279-73ae-4d82-bda7-3ba204cfbc15",
   "metadata": {
    "execution": {
     "iopub.execute_input": "2025-01-15T02:27:56.552406Z",
     "iopub.status.busy": "2025-01-15T02:27:56.552101Z",
     "iopub.status.idle": "2025-01-15T02:28:01.355190Z",
     "shell.execute_reply": "2025-01-15T02:28:01.354552Z",
     "shell.execute_reply.started": "2025-01-15T02:27:56.552389Z"
    }
   },
   "outputs": [
    {
     "name": "stdout",
     "output_type": "stream",
     "text": [
      "{'id': 'aqua_rat_train_10', 'question': 'If Tim had lunch at $50 and he gave 20% tip, how much did he spend?\\nOptions: A)A)$60.00\\tB)B)$35.42\\tC)C)$60.60\\tD)D)$21.56\\tE)E)$78.45', 'labels': ['A', 'A)$60.00']}\n"
     ]
    }
   ],
   "source": [
    "### AQUA\n",
    "def load_aqua(data_path, data_name):\n",
    "    def obtain_correct_answer(options, label):\n",
    "        label_names = [\"A\", \"B\", \"C\", \"D\", \"E\", \"F\", \"G\"]\n",
    "        label_index = label_names.index(label)\n",
    "        return options[label_index][2:]\n",
    "        \n",
    "        \n",
    "    data = load_dataset(os.path.join(data_path, data_name))\n",
    "    train_examples, dev_examples, test_examples = list(), list(), list()\n",
    "    for ei, example in enumerate(data[\"train\"]):\n",
    "        # print(example)\n",
    "        train_examples.append({\n",
    "            \"id\": f\"aqua_rat_train_{ei}\",\n",
    "            \"question\": example[\"question\"] + \"\\nOptions: \" + \"\\t\".join(example[\"options\"]),\n",
    "            \"labels\": [example[\"correct\"], obtain_correct_answer(example[\"options\"], example[\"correct\"])],\n",
    "        })\n",
    "    for ei, example in enumerate(data[\"validation\"]):\n",
    "        # print(example)\n",
    "        dev_examples.append({\n",
    "            \"id\": f\"aqua_rat_dev_{ei}\",\n",
    "            \"question\": example[\"question\"] + \"\\nOptions: \" + \"\\t\".join(example[\"options\"]),\n",
    "            \"labels\": [example[\"correct\"], obtain_correct_answer(example[\"options\"], example[\"correct\"])],\n",
    "        })\n",
    "    for ei, example in enumerate(data[\"test\"]):\n",
    "        # print(example)\n",
    "        test_examples.append({\n",
    "            \"id\": f\"aqua_rat_test_{ei}\",\n",
    "            \"question\": example[\"question\"] + \"\\nOptions: \" + \"\\t\".join(example[\"options\"]),\n",
    "            \"labels\": [example[\"correct\"], obtain_correct_answer(example[\"options\"], example[\"correct\"])],\n",
    "        })\n",
    "    # print(train_examples[10])\n",
    "    save_examples(data_name, \"train\", train_examples, save_path)\n",
    "    save_examples(data_name, \"dev\", dev_examples, save_path)\n",
    "    save_examples(data_name, \"test\", test_examples, save_path)\n",
    "load_aqua(data_path, data_mapping[\"aqua_rat\"])"
   ]
  },
  {
   "cell_type": "code",
   "execution_count": 64,
   "id": "476d70f9-3e3a-4b75-9c56-2c664add8b92",
   "metadata": {
    "execution": {
     "iopub.execute_input": "2024-11-28T12:25:22.914503Z",
     "iopub.status.busy": "2024-11-28T12:25:22.913848Z",
     "iopub.status.idle": "2024-11-28T12:25:23.325463Z",
     "shell.execute_reply": "2024-11-28T12:25:23.325003Z",
     "shell.execute_reply.started": "2024-11-28T12:25:22.914484Z"
    }
   },
   "outputs": [
    {
     "name": "stderr",
     "output_type": "stream",
     "text": [
      "100%|██████████| 7473/7473 [00:00<00:00, 121351.63it/s]\n",
      "100%|██████████| 1319/1319 [00:00<00:00, 181113.30it/s]\n"
     ]
    }
   ],
   "source": [
    "### gsm8k\n",
    "def load_gsm8k(data_path, data_name):\n",
    "\n",
    "    def extract_answser(text):\n",
    "        return text.split(\"\\n\")[-1].replace(\"#### \", \"\")\n",
    "    data = load_dataset(os.path.join(data_path, data_name), \"main\")\n",
    "    train_examples, dev_examples, test_examples = list(), list(), list()\n",
    "    for ei, example in enumerate(data[\"train\"]):\n",
    "        # print(example)\n",
    "        train_examples.append({\n",
    "            \"id\": f\"gsm8k_train_{ei}\",\n",
    "            \"question\": example[\"question\"],\n",
    "            \"labels\": [extract_answser(example[\"answer\"])],\n",
    "        })\n",
    "    for ei, example in enumerate(data[\"test\"]):\n",
    "        # print(example)\n",
    "        test_examples.append({\n",
    "            \"id\": f\"gsm8k_test_{ei}\",\n",
    "            \"question\": example[\"question\"],\n",
    "            \"labels\": [extract_answser(example[\"answer\"])],\n",
    "        })\n",
    "    save_examples(data_name, \"train\", train_examples, save_path)\n",
    "    save_examples(data_name, \"test\", test_examples, save_path)\n",
    "load_gsm8k(data_path, data_mapping[\"gsm8k\"])"
   ]
  },
  {
   "cell_type": "code",
   "execution_count": 68,
   "id": "315d53fe-6569-4461-8278-93b4f5bde800",
   "metadata": {
    "execution": {
     "iopub.execute_input": "2024-11-28T12:29:46.415074Z",
     "iopub.status.busy": "2024-11-28T12:29:46.414543Z",
     "iopub.status.idle": "2024-11-28T12:29:46.501034Z",
     "shell.execute_reply": "2024-11-28T12:29:46.500487Z",
     "shell.execute_reply.started": "2024-11-28T12:29:46.415055Z"
    }
   },
   "outputs": [
    {
     "name": "stderr",
     "output_type": "stream",
     "text": [
      "100%|██████████| 700/700 [00:00<00:00, 206848.87it/s]\n",
      "100%|██████████| 300/300 [00:00<00:00, 201681.55it/s]\n"
     ]
    }
   ],
   "source": [
    "### svamp\n",
    "def load_svamp(data_path, data_name):\n",
    "\n",
    "    data = load_dataset(os.path.join(data_path, data_name))\n",
    "    train_examples, dev_examples, test_examples = list(), list(), list()\n",
    "    for ei, example in enumerate(data[\"train\"]):\n",
    "        # print(example)\n",
    "        train_examples.append({\n",
    "            \"id\": f\"svamp_train_{ei}\",\n",
    "            \"question\": example[\"question_concat\"],\n",
    "            \"labels\": [example[\"Answer\"]],\n",
    "        })\n",
    "    for ei, example in enumerate(data[\"test\"]):\n",
    "        # print(example)\n",
    "        test_examples.append({\n",
    "            \"id\": f\"svamp_test_{ei}\",\n",
    "            \"question\": example[\"question_concat\"],\n",
    "            \"labels\": [example[\"Answer\"]],\n",
    "        })\n",
    "    save_examples(data_name, \"train\", train_examples, save_path)\n",
    "    save_examples(data_name, \"test\", test_examples, save_path)\n",
    "load_svamp(data_path, data_mapping[\"svamp\"])"
   ]
  },
  {
   "cell_type": "code",
   "execution_count": 130,
   "id": "ecfcf50b-ea88-4bba-9645-61f4d56e189f",
   "metadata": {
    "execution": {
     "iopub.execute_input": "2025-01-15T02:27:00.497227Z",
     "iopub.status.busy": "2025-01-15T02:27:00.496916Z",
     "iopub.status.idle": "2025-01-15T02:27:03.495395Z",
     "shell.execute_reply": "2025-01-15T02:27:03.494780Z",
     "shell.execute_reply.started": "2025-01-15T02:27:00.497209Z"
    }
   },
   "outputs": [
    {
     "name": "stdout",
     "output_type": "stream",
     "text": [
      "{'id': 'tal_scq5k_train_10', 'question': '对于任何自然数，定义n!=1\\\\times 2\\\\times 3\\\\times \\\\cdots \\\\times n．那么请问算式2022!-3!的计算结果的个位数字是． \\nA. 2 \\tB. 4 \\tC. 6 \\tD. 8 ', 'labels': ['B']}\n"
     ]
    }
   ],
   "source": [
    "### TAL-SCQ5K\n",
    "def load_tal(data_path, data_name):\n",
    "\n",
    "    data = load_dataset(os.path.join(data_path, data_name))\n",
    "    train_examples, dev_examples, test_examples = list(), list(), list()\n",
    "    for ei, example in enumerate(data[\"train\"]):\n",
    "        # print(example)\n",
    "        train_examples.append({\n",
    "            \"id\": f\"tal_scq5k_train_{ei}\",\n",
    "            \"question\": (example[\"problem\"] + \"\\n\" + \"\\t\".join([\"{}. {}\".format(option[0][\"aoVal\"], option[0][\"content\"]) for option in example[\"answer_option_list\"]])).replace(\"$$\", \"\"),\n",
    "            \"labels\": [example[\"answer_value\"]],\n",
    "        })\n",
    "    for ei, example in enumerate(data[\"test\"]):\n",
    "        # print(example)\n",
    "        test_examples.append({\n",
    "            \"id\": f\"tal_scq5k_test_{ei}\",\n",
    "            \"question\": (example[\"problem\"] + \"\\n\" + \"\\t\".join([\"{}. {}\".format(option[0][\"aoVal\"], option[0][\"content\"]) for option in example[\"answer_option_list\"]])).replace(\"$$\", \"\"),\n",
    "            \"labels\": [example[\"answer_value\"]],\n",
    "        })\n",
    "    print(train_examples[10])\n",
    "    # save_examples(data_name, \"train\", train_examples, save_path)\n",
    "    # save_examples(data_name, \"test\", test_examples, save_path)\n",
    "load_tal(data_path, data_mapping[\"tal-scq5k\"])"
   ]
  },
  {
   "cell_type": "code",
   "execution_count": 90,
   "id": "9475059a-9173-4db2-b6b6-15cec428ab36",
   "metadata": {
    "execution": {
     "iopub.execute_input": "2024-11-29T02:01:32.727030Z",
     "iopub.status.busy": "2024-11-29T02:01:32.726264Z",
     "iopub.status.idle": "2024-11-29T02:01:33.083314Z",
     "shell.execute_reply": "2024-11-29T02:01:33.082725Z",
     "shell.execute_reply.started": "2024-11-29T02:01:32.727008Z"
    }
   },
   "outputs": [
    {
     "name": "stderr",
     "output_type": "stream",
     "text": [
      "100%|██████████| 800/800 [00:00<00:00, 183027.50it/s]\n"
     ]
    }
   ],
   "source": [
    "### TheoremQA\n",
    "def load_theoremqa(data_path, data_name):\n",
    "\n",
    "    data = load_dataset(os.path.join(data_path, data_name))\n",
    "    train_examples, dev_examples, test_examples = list(), list(), list()\n",
    "    for ei, example in enumerate(data[\"test\"]):\n",
    "        # print(example)\n",
    "        test_examples.append({\n",
    "            \"id\": f\"theoremqa_test_{ei}\",\n",
    "            \"question\": example[\"Question\"],\n",
    "            \"labels\": [example[\"Answer\"]],\n",
    "        })\n",
    "    save_examples(data_name, \"test\", test_examples, save_path)\n",
    "load_theoremqa(data_path, data_mapping[\"theoremqa\"])"
   ]
  },
  {
   "cell_type": "code",
   "execution_count": 94,
   "id": "27f92007-4985-44d3-b2c1-77e9365fb43d",
   "metadata": {
    "execution": {
     "iopub.execute_input": "2024-11-29T02:47:54.461095Z",
     "iopub.status.busy": "2024-11-29T02:47:54.460724Z",
     "iopub.status.idle": "2024-11-29T02:47:55.289848Z",
     "shell.execute_reply": "2024-11-29T02:47:55.289404Z",
     "shell.execute_reply.started": "2024-11-29T02:47:54.461076Z"
    }
   },
   "outputs": [
    {
     "name": "stderr",
     "output_type": "stream",
     "text": [
      "100%|██████████| 12000/12000 [00:00<00:00, 67578.49it/s]\n",
      "100%|██████████| 500/500 [00:00<00:00, 187212.28it/s]\n"
     ]
    }
   ],
   "source": [
    "### PRM800K\n",
    "def load_prm800k(data_path, data_name):\n",
    "\n",
    "    data = load_dataset(os.path.join(data_path, data_name))\n",
    "    train_examples, dev_examples, test_examples = list(), list(), list()\n",
    "    for ei, example in enumerate(data[\"train\"]):\n",
    "        # print(example)\n",
    "        train_examples.append({\n",
    "            \"id\": f\"prm800k_train_{ei}\",\n",
    "            \"question\": example[\"problem\"],\n",
    "            \"labels\": [example[\"answer\"]],\n",
    "        })\n",
    "    for ei, example in enumerate(data[\"test\"]):\n",
    "        # print(example)\n",
    "        test_examples.append({\n",
    "            \"id\": f\"tal_scq5k_test_{ei}\",\n",
    "            \"question\": example[\"problem\"],\n",
    "            \"labels\": [example[\"answer\"]],\n",
    "        })\n",
    "    save_examples(data_name, \"train\", train_examples, save_path)\n",
    "    save_examples(data_name, \"test\", test_examples, save_path)\n",
    "load_prm800k(data_path, data_mapping[\"prm800k\"])"
   ]
  },
  {
   "cell_type": "code",
   "execution_count": null,
   "id": "af79813e-b3ee-4009-8fdb-07d28751264d",
   "metadata": {
    "execution": {
     "iopub.execute_input": "2024-11-29T03:06:32.328329Z",
     "iopub.status.busy": "2024-11-29T03:06:32.327734Z",
     "iopub.status.idle": "2024-11-29T03:06:32.442293Z",
     "shell.execute_reply": "2024-11-29T03:06:32.441861Z",
     "shell.execute_reply.started": "2024-11-29T03:06:32.328310Z"
    }
   },
   "outputs": [
    {
     "name": "stderr",
     "output_type": "stream",
     "text": [
      "100%|██████████| 198/198 [00:00<00:00, 129417.51it/s]\n"
     ]
    }
   ],
   "source": [
    "def load_gpqa(data_path, data_name):\n",
    "    data = pd.read_csv(data_path)\n",
    "    test_examples = list()\n",
    "    # 遍历每一行\n",
    "    for index, row in data.iterrows():\n",
    "        # 在这里处理每一行的数据\n",
    "        test_examples.append({\n",
    "            \"idx\": index,\n",
    "            \"question\": row[\"Question\"],\n",
    "            \"labels\": [row[\"Correct Answer\"]],\n",
    "        })\n",
    "    save_examples(data_name, \"test\", test_examples, save_path)\n",
    "load_gpqa(\"<your data path>/gpqa_diamond.csv\", \"GPQA_Diamond\")\n"
   ]
  },
  {
   "cell_type": "code",
   "execution_count": null,
   "id": "b73ec198-716d-4814-8fa4-2f6171527743",
   "metadata": {
    "execution": {
     "iopub.execute_input": "2024-12-22T07:30:13.112385Z",
     "iopub.status.busy": "2024-12-22T07:30:13.111759Z",
     "iopub.status.idle": "2024-12-22T07:30:13.168148Z",
     "shell.execute_reply": "2024-12-22T07:30:13.167636Z",
     "shell.execute_reply.started": "2024-12-22T07:30:13.112365Z"
    }
   },
   "outputs": [
    {
     "name": "stderr",
     "output_type": "stream",
     "text": [
      "100%|██████████| 198/198 [00:00<00:00, 107965.70it/s]\n"
     ]
    }
   ],
   "source": [
    "def load_gpqa_mcqa(data_path, data_name):\n",
    "    data = pd.read_csv(data_path)\n",
    "    test_examples = list()\n",
    "    # 遍历每一行\n",
    "    for index, row in data.iterrows():\n",
    "        correct_answer = row[\"Correct Answer\"]\n",
    "        incorrect_answer_1 = row[\"Incorrect Answer 1\"]\n",
    "        incorrect_answer_2 = row[\"Incorrect Answer 2\"]\n",
    "        incorrect_answer_3 = row[\"Incorrect Answer 3\"]\n",
    "        all_answers = [correct_answer, incorrect_answer_1, incorrect_answer_2, incorrect_answer_3]\n",
    "        random.shuffle(all_answers)\n",
    "        option_labels = [\"A\", \"B\", \"C\", \"D\"]\n",
    "        option_text = [\"{}. {}\".format(option_label, option_name) for option_label, option_name in zip(option_labels, all_answers)]\n",
    "        correct_label = option_labels[all_answers.index(correct_answer)]\n",
    "        test_examples.append({\n",
    "            \"idx\": index,\n",
    "            \"question\": row[\"Question\"] + \"\\nOptions: \" + \"\\n\".join(option_text),\n",
    "            \"labels\": [correct_label, correct_answer],\n",
    "        })\n",
    "    save_examples(data_name, \"test\", test_examples, save_path)\n",
    "load_gpqa_mcqa(\"<your data path>/gpqa_diamond.csv\", \"GPQA_Diamond_MCQA\")\n"
   ]
  },
  {
   "cell_type": "code",
   "execution_count": null,
   "id": "ffcd2645-31c8-4594-9a2d-f2f8cfa52c43",
   "metadata": {
    "execution": {
     "iopub.execute_input": "2024-12-24T05:41:07.467796Z",
     "iopub.status.busy": "2024-12-24T05:41:07.467375Z",
     "iopub.status.idle": "2024-12-24T05:41:07.760635Z",
     "shell.execute_reply": "2024-12-24T05:41:07.760159Z",
     "shell.execute_reply.started": "2024-12-24T05:41:07.467775Z"
    }
   },
   "outputs": [
    {
     "name": "stderr",
     "output_type": "stream",
     "text": [
      "100%|██████████| 1187/1187 [00:00<00:00, 237655.20it/s]\n",
      "100%|██████████| 1744/1744 [00:00<00:00, 237172.24it/s]\n",
      "100%|██████████| 474/474 [00:00<00:00, 233509.53it/s]\n",
      "100%|██████████| 771/771 [00:00<00:00, 218530.10it/s]\n",
      "100%|██████████| 479/479 [00:00<00:00, 168249.86it/s]\n",
      "100%|██████████| 870/870 [00:00<00:00, 153851.27it/s]\n",
      "100%|██████████| 903/903 [00:00<00:00, 185514.13it/s]\n",
      "100%|██████████| 1295/1295 [00:00<00:00, 178836.55it/s]\n",
      "100%|██████████| 540/540 [00:00<00:00, 239674.51it/s]\n",
      "100%|██████████| 869/869 [00:00<00:00, 239713.92it/s]\n",
      "100%|██████████| 871/871 [00:00<00:00, 247475.87it/s]\n",
      "100%|██████████| 1205/1205 [00:00<00:00, 228383.93it/s]\n",
      "100%|██████████| 546/546 [00:00<00:00, 145782.03it/s]\n",
      "100%|██████████| 746/746 [00:00<00:00, 140110.64it/s]\n"
     ]
    },
    {
     "name": "stdout",
     "output_type": "stream",
     "text": [
      "train num=3994\n",
      "test num=2538\n"
     ]
    },
    {
     "name": "stderr",
     "output_type": "stream",
     "text": [
      "100%|██████████| 3994/3994 [00:00<00:00, 133198.03it/s]\n",
      "100%|██████████| 2538/2538 [00:00<00:00, 141360.38it/s]\n"
     ]
    }
   ],
   "source": [
    "def load_math(data_path, data_name):\n",
    "    def load_jsonl(file):\n",
    "        examples = list()\n",
    "        with open(file, \"r\", encoding=\"utf-8\") as fr:\n",
    "            for line in tqdm(fr.readlines()):\n",
    "                examples.append(json.loads(line))\n",
    "        return examples\n",
    "    \n",
    "    train_examples, dev_examples, test_examples = list(), list(), list()\n",
    "    data_file_list = os.listdir(data_path)\n",
    "    index = 0\n",
    "    for data_file in data_file_list:\n",
    "        examples = load_jsonl(os.path.join(data_path, data_file))\n",
    "        # 过滤掉level较低的\n",
    "        for example in examples:\n",
    "            if example[\"level\"] in [\"Level 4\", \"Level 5\"]:\n",
    "                if \"train\" in data_file:\n",
    "                    train_examples.append({\n",
    "                        \"idx\": index,\n",
    "                        \"question\": example[\"problem\"],\n",
    "                        \"labels\": [extract_answer(example[\"solution\"])],\n",
    "                    })\n",
    "                else:\n",
    "                    test_examples.append({\n",
    "                        \"idx\": index,\n",
    "                        \"question\": example[\"problem\"],\n",
    "                        \"labels\": [extract_answer(example[\"solution\"])],\n",
    "                    })\n",
    "                index += 1\n",
    "    print(\"train num={}\".format(len(train_examples)))\n",
    "    print(\"test num={}\".format(len(test_examples)))\n",
    "    save_examples(data_name, \"train\", train_examples, save_path)\n",
    "    save_examples(data_name, \"test\", test_examples, save_path)\n",
    "            \n",
    "load_math(\"<your data path>/data\", \"MATH_hard\")"
   ]
  },
  {
   "cell_type": "code",
   "execution_count": 56,
   "id": "c5aca094-f154-4e25-9d04-cc323f9a0d8e",
   "metadata": {
    "execution": {
     "iopub.execute_input": "2024-12-24T07:32:03.025870Z",
     "iopub.status.busy": "2024-12-24T07:32:03.025164Z",
     "iopub.status.idle": "2024-12-24T07:32:04.402314Z",
     "shell.execute_reply": "2024-12-24T07:32:04.401709Z",
     "shell.execute_reply.started": "2024-12-24T07:32:03.025851Z"
    }
   },
   "outputs": [
    {
     "name": "stderr",
     "output_type": "stream",
     "text": [
      "100%|██████████| 1000/1000 [00:00<00:00, 164109.24it/s]\n"
     ]
    }
   ],
   "source": [
    "def load_tabmwp(data_path, data_name):\n",
    "    data = load_dataset(os.path.join(data_path, data_name))\n",
    "    train_examples, dev_examples, test_examples = list(), list(), list()\n",
    "    # print(data[\"train\"][0])\n",
    "    # 遍历每一行\n",
    "    for index, row in enumerate(data[\"train\"]):\n",
    "        # 在这里处理每一行的数据\n",
    "        if row[\"table_title\"] is not None:\n",
    "            prompt = \"Read the following table about {}, and answer the question.\\n{}\\nQuestion: {}\".format(row[\"table_title\"], row[\"table\"], row[\"question\"])\n",
    "        else:\n",
    "            prompt = \"Read the following table, and answer the question.\\n{}\\nQuestion: {}\".format(row[\"table\"], row[\"question\"])\n",
    "        if row[\"choices\"] is not None:\n",
    "            prompt += \"\\nOptions: \" + \"\\t\".join(row[\"choices\"])\n",
    "        train_examples.append({\n",
    "            \"idx\": index,\n",
    "            \"question\": prompt,\n",
    "            \"labels\": [row[\"answer\"]],\n",
    "        })\n",
    "    save_examples(data_name, \"train\", train_examples, save_path)\n",
    "\n",
    "load_tabmwp(data_path, \"tabmwp\")"
   ]
  },
  {
   "cell_type": "code",
   "execution_count": 55,
   "id": "d27adbd9-bc6d-43e5-b30c-040075edd3ca",
   "metadata": {
    "execution": {
     "iopub.execute_input": "2024-12-24T07:32:01.297991Z",
     "iopub.status.busy": "2024-12-24T07:32:01.297320Z",
     "iopub.status.idle": "2024-12-24T07:32:01.617086Z",
     "shell.execute_reply": "2024-12-24T07:32:01.616526Z",
     "shell.execute_reply.started": "2024-12-24T07:32:01.297973Z"
    }
   },
   "outputs": [
    {
     "name": "stdout",
     "output_type": "stream",
     "text": [
      "{'ID': '1983-1', 'Year': 1983, 'Problem Number': 1, 'Question': 'Let $x$ , $y$ and $z$ all exceed $1$ and let $w$ be a positive number such that $\\\\log_xw=24$ , $\\\\log_y w = 40$ and $\\\\log_{xyz}w=12$ . Find $\\\\log_zw$ .', 'Answer': '60', 'Part': None}\n",
      "train num=919\n"
     ]
    },
    {
     "name": "stderr",
     "output_type": "stream",
     "text": [
      "100%|██████████| 919/919 [00:00<00:00, 152035.87it/s]\n"
     ]
    }
   ],
   "source": [
    "def load_aime(data_path, data_name):\n",
    "    data = load_dataset(os.path.join(data_path, data_name))\n",
    "    train_examples, dev_examples, test_examples = list(), list(), list()\n",
    "    print(data[\"train\"][0])\n",
    "    for index, row in enumerate(data[\"train\"]):\n",
    "        if row[\"Year\"] == 2024:\n",
    "            # print(row)\n",
    "            continue\n",
    "        train_examples.append({\n",
    "            \"idx\": index,\n",
    "            \"question\": row[\"Question\"],\n",
    "            \"labels\": [row[\"Answer\"]],\n",
    "        })\n",
    "    print(\"train num={}\".format(len(train_examples)))\n",
    "    save_examples(data_name, \"train\", train_examples, save_path)\n",
    "\n",
    "load_aime(data_path, \"AIME\")"
   ]
  },
  {
   "cell_type": "code",
   "execution_count": 139,
   "id": "ddc504fb-f1c6-4119-960d-14a2a86f2507",
   "metadata": {
    "execution": {
     "iopub.execute_input": "2025-02-06T02:44:12.756469Z",
     "iopub.status.busy": "2025-02-06T02:44:12.756171Z",
     "iopub.status.idle": "2025-02-06T02:44:17.258554Z",
     "shell.execute_reply": "2025-02-06T02:44:17.257936Z",
     "shell.execute_reply.started": "2025-02-06T02:44:12.756450Z"
    }
   },
   "outputs": [
    {
     "name": "stdout",
     "output_type": "stream",
     "text": [
      "{'query': \"Gracie and Joe are choosing numbers on the complex plane. Joe chooses the point $1+2i$. Gracie chooses $-1+i$. How far apart are Gracie and Joe's points?\", 'response': \"The distance between two points $(x_1,y_1)$ and $(x_2,y_2)$ in the complex plane is given by the formula $\\\\sqrt{(x_2-x_1)^2+(y_2-y_1)^2}$.\\nIn this case, Joe's point is $(1,2)$ and Gracie's point is $(-1,1)$.\\nSo the distance between their points is $\\\\sqrt{((-1)-(1))^2+((1)-(2))^2}=\\\\sqrt{(-2)^2+(-1)^2}=\\\\sqrt{4+1}=\\\\sqrt{5}$.\\nTherefore, Gracie and Joe's points are $\\\\boxed{\\\\sqrt{5}}$ units apart.\\nThe answer is: \\\\sqrt{5}\", 'type': 'MATH_AnsAug', 'original_question': \"Gracie and Joe are choosing numbers on the complex plane. Joe chooses the point $1+2i$. Gracie chooses $-1+i$. How far apart are Gracie and Joe's points?\"}\n"
     ]
    }
   ],
   "source": [
    "def load_metamathQA(data, data_name):\n",
    "    data = load_dataset(os.path.join(data_path, data_mapping[data_name]))\n",
    "    train_examples, dev_examples, test_examples = list(), list(), list()\n",
    "    print(data[\"train\"][0])\n",
    "    avg_length = 0\n",
    "    for index, row in enumerate(data[\"train\"]):\n",
    "        train_examples.append({\n",
    "            \"idx\": index,\n",
    "            \"question\": row[\"query\"],\n",
    "            \"labels\": [row[\"response\"].split(\"The answer is: \")[-1]],\n",
    "            \"response\": row[\"response\"],\n",
    "        })\n",
    "        avg_length += len(row[\"response\"])\n",
    "    avg_length /= len(train_examples)\n",
    "    print(\"avg_length={}\".format(avg_length))\n",
    "    ## 根据response的长度降序排序\n",
    "    sorted(train_examples, key=lambda i:len(i[\"response\"]), reverse=True)\n",
    "    new_train_examples = list()\n",
    "    new_avg_length = 0\n",
    "    ei = 0\n",
    "    for example in tqdm(train_examples):\n",
    "        if len(example[\"response\"]) >= avg_length * 0.8:\n",
    "            new_train_examples.append({\n",
    "                \"idx\": ei,\n",
    "                \"question\": example[\"question\"],\n",
    "                \"labels\": example[\"labels\"],\n",
    "            })\n",
    "            ei += 1\n",
    "            new_avg_length += len(example[\"response\"])\n",
    "    new_avg_length /= len(new_train_examples)\n",
    "    print(\"new_avg_length={}\".format(new_avg_length))\n",
    "        \n",
    "    print(\"train num={}\".format(len(new_train_examples)))\n",
    "    print(new_train_examples[139])\n",
    "    random.shuffle(new_train_examples)\n",
    "    save_examples(data_name, \"train\", new_train_examples, save_path)\n",
    "load_metamathQA(data_path, \"metamathQA\")"
   ]
  },
  {
   "cell_type": "code",
   "execution_count": 142,
   "id": "45976c79-53f2-409b-8faf-e410cabdad87",
   "metadata": {
    "execution": {
     "iopub.execute_input": "2025-02-06T08:57:36.479560Z",
     "iopub.status.busy": "2025-02-06T08:57:36.479196Z",
     "iopub.status.idle": "2025-02-06T08:58:25.561871Z",
     "shell.execute_reply": "2025-02-06T08:58:25.561229Z",
     "shell.execute_reply.started": "2025-02-06T08:57:36.479543Z"
    }
   },
   "outputs": [
    {
     "name": "stdout",
     "output_type": "stream",
     "text": [
      "{'source': 'synthetic_math', 'problem': 'Consider the terms of an arithmetic sequence: $-\\\\frac{1}{3}, y+2, 4y, \\\\ldots$. Solve for $y$.', 'solution': 'For an arithmetic sequence, the difference between consecutive terms must be equal. Therefore, we can set up the following equations based on the sequence given:\\n\\\\[ (y + 2) - \\\\left(-\\\\frac{1}{3}\\\\right) = 4y - (y+2) \\\\]\\n\\nSimplify and solve these equations:\\n\\\\[ y + 2 + \\\\frac{1}{3} = 4y - y - 2 \\\\]\\n\\\\[ y + \\\\frac{7}{3} = 3y - 2 \\\\]\\n\\\\[ \\\\frac{7}{3} + 2 = 3y - y \\\\]\\n\\\\[ \\\\frac{13}{3} = 2y \\\\]\\n\\\\[ y = \\\\frac{13}{6} \\\\]\\n\\nThus, the value of $y$ that satisfies the given arithmetic sequence is $\\\\boxed{\\\\frac{13}{6}}$.', 'messages': [{'content': 'Consider the terms of an arithmetic sequence: $-\\\\frac{1}{3}, y+2, 4y, \\\\ldots$. Solve for $y$.', 'role': 'user'}, {'content': 'For an arithmetic sequence, the difference between consecutive terms must be equal. Therefore, we can set up the following equations based on the sequence given:\\n\\\\[ (y + 2) - \\\\left(-\\\\frac{1}{3}\\\\right) = 4y - (y+2) \\\\]\\n\\nSimplify and solve these equations:\\n\\\\[ y + 2 + \\\\frac{1}{3} = 4y - y - 2 \\\\]\\n\\\\[ y + \\\\frac{7}{3} = 3y - 2 \\\\]\\n\\\\[ \\\\frac{7}{3} + 2 = 3y - y \\\\]\\n\\\\[ \\\\frac{13}{3} = 2y \\\\]\\n\\\\[ y = \\\\frac{13}{6} \\\\]\\n\\nThus, the value of $y$ that satisfies the given arithmetic sequence is $\\\\boxed{\\\\frac{13}{6}}$.', 'role': 'assistant'}]}\n",
      "avg_length=7519.371809432721\n"
     ]
    },
    {
     "name": "stderr",
     "output_type": "stream",
     "text": [
      "100%|██████████| 133832/133832 [00:00<00:00, 981804.67it/s]"
     ]
    },
    {
     "name": "stdout",
     "output_type": "stream",
     "text": [
      "source_set= {'amc_aime', 'aops_forum', 'olympiads', 'synthetic_amc', 'orca_math', 'math', 'gsm8k', 'cn_k12', 'synthetic_math'}\n",
      "new_avg_length=2097.5472233845417\n",
      "train num=133832\n",
      "{'idx': 139, 'question': 'Find the value of the expression \\\\(\\\\frac{a^{2}}{b c}+\\\\frac{b^{2}}{a c}+\\\\frac{c^{2}}{a b}\\\\) if \\\\(a + b + c = 0\\\\).', 'labels': ['3']}\n"
     ]
    },
    {
     "name": "stderr",
     "output_type": "stream",
     "text": [
      "\n",
      "100%|██████████| 133832/133832 [00:01<00:00, 106811.33it/s]\n"
     ]
    }
   ],
   "source": [
    "def load_numinamath(data, data_name):\n",
    "    data = load_dataset(os.path.join(data_path, data_mapping[data_name]))\n",
    "    train_examples, dev_examples, test_examples = list(), list(), list()\n",
    "    print(data[\"train\"][0])\n",
    "\n",
    "    source_set = set()\n",
    "    avg_length = 0\n",
    "    for index, row in enumerate(data[\"train\"]):\n",
    "        source = row[\"source\"]\n",
    "        source_set.add(source)\n",
    "        answer = extract_answer(row[\"solution\"])\n",
    "        if answer is not None and answer.strip() != \"\":\n",
    "            if source in [\"amc_aime\", \"olympiads\"]:\n",
    "                train_examples.append({\n",
    "                    \"idx\": index,\n",
    "                    \"question\": row[\"problem\"],\n",
    "                    \"labels\": [answer],\n",
    "                    \"response\": row[\"solution\"],\n",
    "                })\n",
    "        avg_length += len(row[\"solution\"])\n",
    "    avg_length /= len(train_examples)\n",
    "    print(\"avg_length={}\".format(avg_length))\n",
    "    # return train_examples\n",
    "    ## 根据response的长度降序排序\n",
    "    sorted(train_examples, key=lambda i:len(i[\"response\"]), reverse=True)\n",
    "    new_train_examples = list()\n",
    "    new_avg_length = 0\n",
    "    ei = 0\n",
    "    for example in tqdm(train_examples):\n",
    "        # if len(example[\"response\"]) >= avg_length * 1.2:\n",
    "        if len(example[\"response\"]) >= 0:\n",
    "            new_train_examples.append({\n",
    "                \"idx\": ei,\n",
    "                \"question\": example[\"question\"],\n",
    "                \"labels\": example[\"labels\"],\n",
    "            })\n",
    "            ei += 1\n",
    "            new_avg_length += len(example[\"response\"])\n",
    "    new_avg_length /= len(new_train_examples)\n",
    "    print(\"source_set=\", source_set)\n",
    "    print(\"new_avg_length={}\".format(new_avg_length))\n",
    "        \n",
    "    print(\"train num={}\".format(len(new_train_examples)))\n",
    "    print(new_train_examples[139])\n",
    "    random.shuffle(new_train_examples)\n",
    "    save_examples(data_name, \"train\", new_train_examples, save_path)\n",
    "load_numinamath(data_path, \"numinamath\")"
   ]
  },
  {
   "cell_type": "code",
   "execution_count": 122,
   "id": "df4afa07-56ee-427d-ab74-ed2f44aad1c7",
   "metadata": {
    "execution": {
     "iopub.execute_input": "2025-01-12T00:14:10.367851Z",
     "iopub.status.busy": "2025-01-12T00:14:10.367491Z",
     "iopub.status.idle": "2025-01-12T00:14:10.371732Z",
     "shell.execute_reply": "2025-01-12T00:14:10.371244Z",
     "shell.execute_reply.started": "2025-01-12T00:14:10.367832Z"
    }
   },
   "outputs": [
    {
     "data": {
      "text/plain": [
       "{'idx': 93713,\n",
       " 'question': 'Let  $a, b, c$  be pairwise coprime natural numbers. A positive integer  $n$  is said to be *stubborn* if it cannot be written in the form \\r $n = bcx+cay+abz$ , for some  $x, y, z \\\\in\\\\mathbb{ N}.$  Determine the number of stubborn numbers.',\n",
       " 'labels': ['abc - ab - bc - ca'],\n",
       " 'response': 'To determine the number of stubborn numbers, we need to analyze the given problem in detail. We are given that \\\\(a, b, c\\\\) are pairwise coprime natural numbers, and a positive integer \\\\(n\\\\) is said to be stubborn if it cannot be written in the form \\\\(n = bcx + cay + abz\\\\) for some \\\\(x, y, z \\\\in \\\\mathbb{N}\\\\).\\n\\n1. **Understanding the Form \\\\(n = bcx + cay + abz\\\\)**:\\n   - Since \\\\(a, b, c\\\\) are pairwise coprime, the form \\\\(n = bcx + cay + abz\\\\) represents a linear combination of \\\\(bc, ca, ab\\\\) with coefficients in \\\\(\\\\mathbb{N}\\\\).\\n   - This form is similar to the Frobenius coin problem but in three dimensions.\\n\\n2. **Largest Non-Stubborn Number**:\\n   - From the Frobenius coin problem in two dimensions, we know that the largest number that cannot be expressed as \\\\(bx + cy\\\\) for \\\\(x, y \\\\in \\\\mathbb{N}\\\\) is \\\\(bc - b - c\\\\).\\n   - Extending this to three dimensions, the largest number that cannot be expressed as \\\\(bcx + cay + abz\\\\) is \\\\(2abc - ab - bc - ca\\\\).\\n\\n3. **Counting Stubborn Numbers**:\\n   - We need to count the positive integers in the interval \\\\([1, 2abc]\\\\) that can be written in the form \\\\(bcx + cay + abz\\\\).\\n   - The number of non-stubborn numbers is given by the number of integers that can be written in the form \\\\(bcx + cay + abz\\\\) within the interval \\\\([1, 2abc]\\\\).\\n\\n4. **Using the Inclusion-Exclusion Principle**:\\n   - We need to count the number of integers that can be written as \\\\(bcx + cay + abz\\\\) and subtract this from the total number of integers in the interval \\\\([1, 2abc]\\\\).\\n   - The total number of integers in the interval \\\\([1, 2abc]\\\\) is \\\\(2abc\\\\).\\n\\n5. **Conclusion**:\\n   - The number of stubborn numbers is the total number of integers in the interval \\\\([1, 2abc]\\\\) minus the number of integers that can be written in the form \\\\(bcx + cay + abz\\\\).\\n   - Since \\\\(2abc\\\\) is the largest non-stubborn number, all numbers from \\\\(1\\\\) to \\\\(2abc\\\\) can be written in the form \\\\(bcx + cay + abz\\\\) except for the stubborn numbers.\\n\\nTherefore, the number of stubborn numbers is given by:\\n\\\\[\\n\\\\boxed{abc - ab - bc - ca}\\n\\\\]'}"
      ]
     },
     "execution_count": 122,
     "metadata": {},
     "output_type": "execute_result"
    }
   ],
   "source": [
    "train_examples[90102]"
   ]
  },
  {
   "cell_type": "code",
   "execution_count": 68,
   "id": "0689267b-e7bd-43a7-a935-13bd5b095a61",
   "metadata": {
    "execution": {
     "iopub.execute_input": "2024-12-24T07:40:23.345062Z",
     "iopub.status.busy": "2024-12-24T07:40:23.344764Z",
     "iopub.status.idle": "2024-12-24T07:41:04.988962Z",
     "shell.execute_reply": "2024-12-24T07:41:04.988301Z",
     "shell.execute_reply.started": "2024-12-24T07:40:23.345044Z"
    }
   },
   "outputs": [
    {
     "name": "stdout",
     "output_type": "stream",
     "text": [
      "{'id': 'AttNeg-OWA-D0-4611', 'maxD': 0, 'NFact': 7, 'NRule': 8, 'theory': 'Gary is furry. Gary is nice. Gary is red. Gary is rough. Gary is not smart. Gary is white. Gary is young. If Gary is nice and Gary is not white then Gary is red. If someone is white then they are red. All young people are furry. If someone is white and not red then they are furry. Smart, red people are rough. If Gary is not red and Gary is not furry then Gary is not smart. If Gary is white then Gary is not smart. If someone is rough and not white then they are not smart.', 'question': 'Gary is white.', 'answer': 'True', 'QDep': 0, 'QLen': 1.0, 'allProofs': '@0: Gary is furry.[(triple1 OR ((triple7) -> rule3))] Gary is nice.[(triple2)] Gary is not smart.[(triple5 OR ((triple6) -> rule7))] Gary is red.[(triple3 OR ((triple6) -> rule2))] Gary is rough.[(triple4)] Gary is white.[(triple6)] Gary is young.[(triple7)]', 'config': 'depth-0'}\n"
     ]
    },
    {
     "name": "stderr",
     "output_type": "stream",
     "text": [
      "100%|██████████| 2000/2000 [00:00<00:00, 84184.09it/s]\n"
     ]
    }
   ],
   "source": [
    "def load_proofwriter(data_path, data_name):\n",
    "    data = load_dataset(os.path.join(data_path, data_name))\n",
    "    train_examples, dev_examples, test_examples = list(), list(), list()\n",
    "    print(data[\"train\"][0])\n",
    "    for index, row in enumerate(data[\"train\"]):\n",
    "        train_examples.append({\n",
    "            \"idx\": index,\n",
    "            \"question\": row[\"theory\"] + \"\\n\" + \"Question: Please check the following fact and give your answer from 'True' or 'False' or 'Unknown': \" + row[\"question\"],\n",
    "            \"labels\": [row[\"answer\"]],\n",
    "        })\n",
    "    random.shuffle(train_examples)\n",
    "    train_examples = train_examples[:2000]\n",
    "    save_examples(data_name, \"train\", train_examples, logic_save_path)\n",
    "load_proofwriter(logic_data_path, \"proofwriter\")"
   ]
  },
  {
   "cell_type": "code",
   "execution_count": 71,
   "id": "ffba5cfa-2e36-4f1e-8fbf-6c731217c659",
   "metadata": {
    "execution": {
     "iopub.execute_input": "2024-12-24T07:51:51.786957Z",
     "iopub.status.busy": "2024-12-24T07:51:51.786644Z",
     "iopub.status.idle": "2024-12-24T07:51:52.079786Z",
     "shell.execute_reply": "2024-12-24T07:51:52.079236Z",
     "shell.execute_reply.started": "2024-12-24T07:51:51.786939Z"
    }
   },
   "outputs": [
    {
     "name": "stdout",
     "output_type": "stream",
     "text": [
      "{'story_id': 406, 'premises': \"All people who regularly drink coffee are dependent on caffeine.\\nPeople regularly drink coffee, or they don't want to be addicted to caffeine, or both.\\nNo one who doesn't want to be addicted to caffeine is unaware that caffeine is a drug.\\nRina is either a student who is unaware that caffeine is a drug, or she is not a student and is she aware that caffeine is a drug.\\nRina  is either a student who is dependent on caffeine, or she is not a student and not dependent on caffeine.\", 'premises-FOL': '∀x (DrinkRegularly(x, coffee) → IsDependentOn(x, caffeine))\\n∀x (DrinkRegularly(x, coffee)  ∨ (¬WantToBeAddictedTo(x, caffeine)))\\n∀x (¬WantToBeAddictedTo(x, caffeine) → ¬AwareThatDrug(x, caffeine))\\n¬(Student(rina) ⊕  ¬AwareThatDrug(rina, caffeine))\\n¬(IsDependentOn(rina, caffeine) ⊕ Student(rina))', 'conclusion': \"Rina doesn't want to be addicted to caffeine or is unaware that caffeine is a drug.\", 'conclusion-FOL': '¬WantToBeAddictedTo(rina, caffeine) ∨ (¬AwareThatDrug(rina, caffeine))', 'label': 'True', 'example_id': 1126}\n"
     ]
    },
    {
     "name": "stderr",
     "output_type": "stream",
     "text": [
      "100%|██████████| 1001/1001 [00:00<00:00, 88864.63it/s]\n"
     ]
    }
   ],
   "source": [
    "def load_folio(data_path, data_name):\n",
    "    data = load_dataset(os.path.join(data_path, data_name))\n",
    "    train_examples, dev_examples, test_examples = list(), list(), list()\n",
    "    print(data[\"train\"][0])\n",
    "    for index, row in enumerate(data[\"train\"]):\n",
    "        train_examples.append({\n",
    "            \"idx\": index,\n",
    "            \"question\": \"Please check whether the conclusion is entailment to the premise, and answer 'True' or 'False' or 'Uncertain'.\\nPremise: {}\\nConclusion: {}\".format(row[\"premises\"], row[\"conclusion\"]),\n",
    "            \"labels\": [row[\"label\"]],\n",
    "        })\n",
    "    save_examples(data_name, \"train\", train_examples, logic_save_path)\n",
    "load_folio(logic_data_path, \"folio\")"
   ]
  },
  {
   "cell_type": "code",
   "execution_count": 75,
   "id": "860c30b1-0664-48c2-91ad-813a2d32bc4a",
   "metadata": {
    "execution": {
     "iopub.execute_input": "2024-12-24T07:54:16.955460Z",
     "iopub.status.busy": "2024-12-24T07:54:16.955143Z",
     "iopub.status.idle": "2024-12-24T07:54:17.610476Z",
     "shell.execute_reply": "2024-12-24T07:54:17.609800Z",
     "shell.execute_reply.started": "2024-12-24T07:54:16.955444Z"
    }
   },
   "outputs": [
    {
     "name": "stdout",
     "output_type": "stream",
     "text": [
      "{'premise': 'Nathalie is not blue.\\nGabriel is concerned.\\nNathalie is not concerned.\\nBaird is concerned.\\nBaird is serious.\\nQuinlan is not entire.\\nJohn is not fresh.\\nJohn is blue.\\nGabriel is serious.\\nArthur is serious.\\nGabriel is not entire.\\nNathalie is not accurate.If there is someone who is either not concerned or fresh, then John is entire.\\nSomeone who is eithor not fresh or entire is always not serious.\\nIf John is not serious and Quinlan is fresh, then Baird is not entire.\\nIf Gabriel is not serious, then Quinlan is not blue and Gabriel is accurate.\\nIf Nathalie is not blue, then Collier is entire.\\nIf someone is fresh or he is not concerned, then he is not blue.\\nIf there is someone who is both serious and fresh, then Baird is not blue.\\nIf someone is concerned and serious, then he is entire, and vice versa.\\nNathalie being not fresh and Baird being serious imply that Nathalie is blue.\\nIf there is at least one people who is both not accurate and entire, then Collier is serious.\\nIt can be concluded that Gabriel is concerned once knowing that Baird is not blue.\\nIf someone is entire, then he is not serious, and vice versa.', 'hypothesis': 'Baird is not serious.', 'label': 'self_contradiction'}\n"
     ]
    },
    {
     "name": "stderr",
     "output_type": "stream",
     "text": [
      "100%|██████████| 8000/8000 [00:00<00:00, 44671.16it/s]\n"
     ]
    }
   ],
   "source": [
    "def load_logicnli(data_path, data_name):\n",
    "    data = load_dataset(os.path.join(data_path, data_name))\n",
    "    train_examples, dev_examples, test_examples = list(), list(), list()\n",
    "    print(data[\"train\"][0])\n",
    "    for index, row in enumerate(data[\"train\"]):\n",
    "        train_examples.append({\n",
    "            \"idx\": index,\n",
    "            \"question\": \"Please check whether the hypothesis is entailment to the premise, and answer 'entailment' or 'contradiction' or 'neutral' or 'self_contradiction'.\\nPremise: {}\\nHypothesis: {}\".format(row[\"premise\"], row[\"hypothesis\"]),\n",
    "            \"labels\": [row[\"label\"]],\n",
    "        })\n",
    "    random.shuffle(train_examples)\n",
    "    train_examples = train_examples[:8000]\n",
    "    save_examples(data_name, \"train\", train_examples, logic_save_path)\n",
    "load_logicnli(logic_data_path, \"logicnli\")"
   ]
  },
  {
   "cell_type": "code",
   "execution_count": 81,
   "id": "292b1c92-b75c-4638-9dad-2941feca123b",
   "metadata": {
    "execution": {
     "iopub.execute_input": "2024-12-24T08:02:25.097118Z",
     "iopub.status.busy": "2024-12-24T08:02:25.096752Z",
     "iopub.status.idle": "2024-12-24T08:02:25.387000Z",
     "shell.execute_reply": "2024-12-24T08:02:25.386459Z",
     "shell.execute_reply.started": "2024-12-24T08:02:25.097101Z"
    }
   },
   "outputs": [
    {
     "name": "stdout",
     "output_type": "stream",
     "text": [
      "{'context': 'Exactly six trade representatives negotiate a treaty: Klosnik, Londi, Manley, Neri, Osata, Poirier. There are exactly six chairs evenly spaced around a circular table. The chairs are numbered 1 through 6, with successively numbered chairs next to each other and chair number 1 next to chair number 6. Each chair is occupied by exactly one of the representatives. The following conditions apply: Poirier sits immediately next to Neri. Londi sits immediately next to Manley, Neri, or both. Klosnik does not sit immediately next to Manley. If Osata sits immediately next to Poirier, Osata does not sit immediately next to Manley.', 'question': 'Which one of the following seating arrangements of the six representatives in chairs 1 through 6 would NOT violate the stated conditions?', 'answers': ['Klosnik, Poirier, Neri, Manley, Osata, Londi', 'Klosnik, Londi, Manley, Poirier, Neri, Osata', 'Klosnik, Londi, Manley, Osata, Poirier, Neri', 'Klosnik, Osata, Poirier, Neri, Londi, Manley', 'Klosnik, Neri, Londi, Osata, Manley, Poirier'], 'label': 1}\n"
     ]
    },
    {
     "name": "stderr",
     "output_type": "stream",
     "text": [
      "100%|██████████| 1585/1585 [00:00<00:00, 42750.31it/s]\n"
     ]
    }
   ],
   "source": [
    "def load_arlsat(data_path, data_name):\n",
    "    data = load_dataset(os.path.join(data_path, data_mapping[data_name]))\n",
    "    train_examples, dev_examples, test_examples = list(), list(), list()\n",
    "    print(data[\"train\"][0])\n",
    "    for index, row in enumerate(data[\"train\"]):\n",
    "        options = row[\"answers\"]\n",
    "        label_names = [\"A\", \"B\", \"C\", \"D\", \"E\", \"F\", \"G\"]\n",
    "        train_examples.append({\n",
    "            \"idx\": index,\n",
    "            \"question\": row[\"context\"] + \"\\nQuestion: \" + row[\"question\"] + \"\\nOptions: \" + \"\\t\".join([\"({}). {}\".format(label_names[i], options[i]) for i in range(len(options))]),\n",
    "            \"labels\": [label_names[row[\"label\"]], options[row[\"label\"]]],\n",
    "        })\n",
    "    save_examples(data_name, \"train\", train_examples, logic_save_path)\n",
    "load_arlsat(logic_data_path, \"ar_lsat\")"
   ]
  },
  {
   "cell_type": "code",
   "execution_count": 86,
   "id": "49d1e703-dfba-41b6-b614-485a95e0a2dd",
   "metadata": {
    "execution": {
     "iopub.execute_input": "2024-12-24T08:07:53.973336Z",
     "iopub.status.busy": "2024-12-24T08:07:53.972961Z",
     "iopub.status.idle": "2024-12-24T08:07:54.535539Z",
     "shell.execute_reply": "2024-12-24T08:07:54.534923Z",
     "shell.execute_reply.started": "2024-12-24T08:07:53.973317Z"
    }
   },
   "outputs": [
    {
     "name": "stdout",
     "output_type": "stream",
     "text": [
      "{'context': 'A graduate degree in policymaking is necessary to serve in the presidential cabinet. In addition, every member of the cabinet must pass a security clearance. No person with a felony can pass a security clearance. Rick holds a graduate degree in policymaking, but he has a conviction for driving under the influence. Ttherefore, Rick cannot serve in the cabinet.', 'question': \"The argument's conclusion follows logically if which one of the following is assumed?\", 'answers': ['Holding a graduate degree is less important than having a felony conviction.', 'Driving under the influence is a felony.', 'Anyone without a felony conviction can pass a security clearance.', \"Rick's conviction for drunk driving calls his character in question.\"], 'label': 1, 'id_string': 'train_1000'}\n"
     ]
    },
    {
     "name": "stderr",
     "output_type": "stream",
     "text": [
      "100%|██████████| 4638/4638 [00:00<00:00, 25915.88it/s]\n"
     ]
    }
   ],
   "source": [
    "def load_reclor(data_path, data_name):\n",
    "    data = load_dataset(os.path.join(data_path, data_mapping[data_name]))\n",
    "    train_examples, dev_examples, test_examples = list(), list(), list()\n",
    "    print(data[\"train\"][1000])\n",
    "    for index, row in enumerate(data[\"train\"]):\n",
    "        options = row[\"answers\"]\n",
    "        label_names = [\"A\", \"B\", \"C\", \"D\", \"E\", \"F\", \"G\"]\n",
    "        train_examples.append({\n",
    "            \"idx\": index,\n",
    "            \"question\": row[\"context\"] + \"\\nQuestion: \" + row[\"question\"] + \"\\nOptions: \" + \"\\t\".join([\"({}). {}\".format(label_names[i], options[i]) for i in range(len(options))]),\n",
    "            \"labels\": [label_names[row[\"label\"]], options[row[\"label\"]]],\n",
    "        })\n",
    "    save_examples(data_name, \"train\", train_examples, logic_save_path)\n",
    "load_reclor(logic_data_path, \"reclor\")"
   ]
  },
  {
   "cell_type": "code",
   "execution_count": 88,
   "id": "5506bf3e-bc64-454d-a4ba-b339c19be7e8",
   "metadata": {
    "execution": {
     "iopub.execute_input": "2024-12-24T08:12:55.259846Z",
     "iopub.status.busy": "2024-12-24T08:12:55.259111Z",
     "iopub.status.idle": "2024-12-24T08:12:55.452654Z",
     "shell.execute_reply": "2024-12-24T08:12:55.452067Z",
     "shell.execute_reply.started": "2024-12-24T08:12:55.259828Z"
    }
   },
   "outputs": [
    {
     "name": "stdout",
     "output_type": "stream",
     "text": [
      "{'id': 'entailment_bank_train_0', 'ref_id': 'MDSA_2009_4_30', 'question': 'Stars are organized into patterns called constellations. One constellation is named Leo. Which statement best explains why Leo appears in different areas of the sky throughout the year?', 'type': 'text', 'choices': [], 'context': '', 'cot': ['Leo is a kind of constellation.', 'A constellation contains stars.', 'Therefore, leo is a constellation containing stars.', 'Leo is a constellation containing stars.', 'The earth revolving around the sun causes stars to appear in different areas in the sky at different times of year.', 'Therefore, the earth revolving around the sun causes leo to appear in different areas in the sky at different times of year.'], 'answer': ['Earth revolves around the sun.'], 'generated_cot': [], 'feedback': []}\n"
     ]
    },
    {
     "name": "stderr",
     "output_type": "stream",
     "text": [
      "100%|██████████| 1840/1840 [00:00<00:00, 176739.78it/s]\n"
     ]
    }
   ],
   "source": [
    "def load_entailment_bank(data_path, data_name):\n",
    "    data = load_dataset(os.path.join(data_path, data_name))\n",
    "    train_examples, dev_examples, test_examples = list(), list(), list()\n",
    "    print(data[\"train\"][0])\n",
    "    for index, row in enumerate(data[\"train\"]):\n",
    "        train_examples.append({\n",
    "            \"idx\": index,\n",
    "            \"question\": \"Question: {}\".format(row[\"question\"]),\n",
    "            \"labels\": [row[\"answer\"][0], row[\"cot\"][-1]],\n",
    "        })\n",
    "    save_examples(data_name, \"train\", train_examples, logic_save_path)\n",
    "load_entailment_bank(logic_data_path, \"entailment_bank\")"
   ]
  },
  {
   "cell_type": "code",
   "execution_count": 93,
   "id": "ad585b1c-2f20-49cc-8bb8-14a9e8ee7ccc",
   "metadata": {
    "execution": {
     "iopub.execute_input": "2024-12-24T08:19:49.549915Z",
     "iopub.status.busy": "2024-12-24T08:19:49.549371Z",
     "iopub.status.idle": "2024-12-24T08:19:49.669997Z",
     "shell.execute_reply": "2024-12-24T08:19:49.669450Z",
     "shell.execute_reply.started": "2024-12-24T08:19:49.549895Z"
    }
   },
   "outputs": [
    {
     "name": "stdout",
     "output_type": "stream",
     "text": [
      "{'qid': '4fd64bb6ce5b78ab20b6', 'term': 'Mixed martial arts', 'description': 'full contact combat sport', 'question': 'Is Mixed martial arts totally original from Roman Colosseum games?', 'answer': False, 'facts': 'Mixed Martial arts in the UFC takes place in an enclosed structure called The Octagon. The Roman Colosseum games were fought in enclosed arenas where combatants would fight until the last man was standing. Mixed martial arts contests are stopped when one of the combatants is incapacitated. The Roman Colosseum was performed in front of crowds that numbered in the tens of thousands. Over 56,000 people attended UFC 193.'}\n"
     ]
    },
    {
     "name": "stderr",
     "output_type": "stream",
     "text": [
      "100%|██████████| 1603/1603 [00:00<00:00, 98217.36it/s]\n"
     ]
    }
   ],
   "source": [
    "def load_strategyqa(data_path, data_name):\n",
    "    data = load_dataset(os.path.join(data_path, data_mapping[data_name]))\n",
    "    train_examples, dev_examples, test_examples = list(), list(), list()\n",
    "    print(data[\"train\"][0])\n",
    "    for index, row in enumerate(data[\"train\"]):\n",
    "        train_examples.append({\n",
    "            \"idx\": index,\n",
    "            \"question\": \"Give some facts, please answer the question by 'True' or 'False'.\\nFacts: {}\\nQuestion: {}\".format(row[\"facts\"], row[\"question\"]),\n",
    "            \"labels\": [str(row[\"answer\"])],\n",
    "        })\n",
    "    save_examples(data_name, \"train\", train_examples, logic_save_path)\n",
    "load_strategyqa(logic_data_path, \"strategy_qa\")"
   ]
  }
 ],
 "metadata": {
  "kernelspec": {
   "display_name": "Python 3 (ipykernel)",
   "language": "python",
   "name": "python3"
  },
  "language_info": {
   "codemirror_mode": {
    "name": "ipython",
    "version": 3
   },
   "file_extension": ".py",
   "mimetype": "text/x-python",
   "name": "python",
   "nbconvert_exporter": "python",
   "pygments_lexer": "ipython3",
   "version": "3.10.14"
  }
 },
 "nbformat": 4,
 "nbformat_minor": 5
}
